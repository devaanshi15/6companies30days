{
 "cells": [
  {
   "cell_type": "code",
   "execution_count": 1,
   "metadata": {},
   "outputs": [
    {
     "name": "stdout",
     "output_type": "stream",
     "text": [
      "5\n"
     ]
    }
   ],
   "source": [
    "a=5\n",
    "print(a)"
   ]
  },
  {
   "cell_type": "code",
   "execution_count": 2,
   "metadata": {},
   "outputs": [
    {
     "name": "stdout",
     "output_type": "stream",
     "text": [
      "9\n",
      "-1\n",
      "20\n",
      "8.2\n",
      "1\n",
      "8\n"
     ]
    }
   ],
   "source": [
    "print(4+5)\n",
    "print(4-5)\n",
    "print(4*5)\n",
    "print(41/5)\n",
    "print(41%5)\n",
    "print(41//5)"
   ]
  },
  {
   "cell_type": "code",
   "execution_count": 3,
   "metadata": {},
   "outputs": [
    {
     "name": "stdout",
     "output_type": "stream",
     "text": [
      "False\n",
      "True\n",
      "True\n",
      "False\n",
      "False\n",
      "True\n"
     ]
    }
   ],
   "source": [
    "print(8==4)\n",
    "print(8>=4)\n",
    "print(8>4)\n",
    "print(8<=4)\n",
    "print(8<4)\n",
    "print(8!=4)"
   ]
  },
  {
   "cell_type": "code",
   "execution_count": 4,
   "metadata": {},
   "outputs": [
    {
     "name": "stdout",
     "output_type": "stream",
     "text": [
      "9\n"
     ]
    }
   ],
   "source": [
    "a+=4\n",
    "print(a)"
   ]
  },
  {
   "cell_type": "code",
   "execution_count": 5,
   "metadata": {},
   "outputs": [
    {
     "name": "stdout",
     "output_type": "stream",
     "text": [
      "5\n"
     ]
    }
   ],
   "source": [
    "a-=4\n",
    "print(a)"
   ]
  },
  {
   "cell_type": "code",
   "execution_count": 8,
   "metadata": {},
   "outputs": [
    {
     "name": "stdout",
     "output_type": "stream",
     "text": [
      "20\n"
     ]
    }
   ],
   "source": [
    "a*=4\n",
    "print(a)"
   ]
  },
  {
   "cell_type": "code",
   "execution_count": 13,
   "metadata": {},
   "outputs": [
    {
     "name": "stdout",
     "output_type": "stream",
     "text": [
      "False\n",
      "True\n",
      "False\n"
     ]
    }
   ],
   "source": [
    "print(a>4 and a==5)\n",
    "print(a>4 or a==5)\n",
    "print(not(a>4 or a==5))"
   ]
  },
  {
   "cell_type": "code",
   "execution_count": 6,
   "metadata": {},
   "outputs": [
    {
     "name": "stdout",
     "output_type": "stream",
     "text": [
      "Eligible to vote\n"
     ]
    }
   ],
   "source": [
    "age=26\n",
    "if age>18: \n",
    "    print(\"Eligible to vote\")\n",
    "else:\n",
    "    print(\"Not eligible to vote\")"
   ]
  },
  {
   "cell_type": "markdown",
   "metadata": {},
   "source": [
    "# Grade Calculation\n",
    "Less then 40% - NC\n",
    "From 40 and less than 50 - D\n",
    "From 50 and less than 60 - C\n",
    "From 60 and less than 70 - B\n",
    "From 70 and less than 80 - A\n",
    "80 and above - O"
   ]
  },
  {
   "cell_type": "code",
   "execution_count": 7,
   "metadata": {},
   "outputs": [
    {
     "name": "stdout",
     "output_type": "stream",
     "text": [
      "Enter Percentage56\n",
      "<class 'str'>\n",
      "<class 'int'>\n",
      "Grade = C\n"
     ]
    }
   ],
   "source": [
    "percent=input(\"Enter Percentage\")\n",
    "print(type(percent))\n",
    "percent=int(percent)\n",
    "print(type(percent))\n",
    "if percent < 40:\n",
    "    print(\"Grade = NC\")\n",
    "elif percent >=40 and percent <50:\n",
    "    print(\"Grade = D\")\n",
    "elif percent >=50 and percent <60:\n",
    "    print(\"Grade = C\")\n",
    "elif percent >=60 and percent <70:\n",
    "    print(\"Grade = B\")\n",
    "elif percent >=70 and percent <80:\n",
    "    print(\"Grade = A\")\n",
    "else:\n",
    "    print(\"Grade = O)\")"
   ]
  },
  {
   "cell_type": "markdown",
   "metadata": {},
   "source": [
    "# Exercise 1\n",
    "1. WAP to check if a number is divisible by 7\n",
    "2. WAP to check if a number is even or odd\n",
    "3. WAP to Print an Electricity Bill\n",
    "    ## Units Consumed\n",
    "        Less than 500 - 0.2 per unit\n",
    "        500 - 1000 - 0.4 per unit above 499 units\n",
    "        1001 - 1500 - 0.6 per unit above 1000 units\n",
    "        1501 - 2000 - 1.5 per unit above 1500 units\n",
    "        2001 and above - 2.5 per unit above 2000 units"
   ]
  }
 ],
 "metadata": {
  "kernelspec": {
   "display_name": "Python 3",
   "language": "python",
   "name": "python3"
  },
  "language_info": {
   "codemirror_mode": {
    "name": "ipython",
    "version": 3
   },
   "file_extension": ".py",
   "mimetype": "text/x-python",
   "name": "python",
   "nbconvert_exporter": "python",
   "pygments_lexer": "ipython3",
   "version": "3.8.8"
  }
 },
 "nbformat": 4,
 "nbformat_minor": 4
}
